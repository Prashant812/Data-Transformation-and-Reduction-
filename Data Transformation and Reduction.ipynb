{
 "cells": [
  {
   "cell_type": "markdown",
   "metadata": {},
   "source": [
    "# Attribute Normalization, Standardization and Dimension reduction of data"
   ]
  },
  {
   "cell_type": "code",
   "execution_count": 26,
   "metadata": {},
   "outputs": [],
   "source": [
    "import pandas as pd\n",
    "import matplotlib.pyplot as plt\n",
    "import numpy as np\n",
    "from sklearn import preprocessing as prp\n",
    "from sklearn.decomposition import PCA"
   ]
  },
  {
   "cell_type": "markdown",
   "metadata": {},
   "source": [
    "Using Pima Indians Diabetes Database as a csv file"
   ]
  },
  {
   "cell_type": "code",
   "execution_count": 3,
   "metadata": {},
   "outputs": [
    {
     "data": {
      "text/html": [
       "<div>\n",
       "<style scoped>\n",
       "    .dataframe tbody tr th:only-of-type {\n",
       "        vertical-align: middle;\n",
       "    }\n",
       "\n",
       "    .dataframe tbody tr th {\n",
       "        vertical-align: top;\n",
       "    }\n",
       "\n",
       "    .dataframe thead th {\n",
       "        text-align: right;\n",
       "    }\n",
       "</style>\n",
       "<table border=\"1\" class=\"dataframe\">\n",
       "  <thead>\n",
       "    <tr style=\"text-align: right;\">\n",
       "      <th></th>\n",
       "      <th>pregs</th>\n",
       "      <th>plas</th>\n",
       "      <th>pres</th>\n",
       "      <th>skin</th>\n",
       "      <th>test</th>\n",
       "      <th>BMI</th>\n",
       "      <th>pedi</th>\n",
       "      <th>Age</th>\n",
       "      <th>class</th>\n",
       "    </tr>\n",
       "  </thead>\n",
       "  <tbody>\n",
       "    <tr>\n",
       "      <th>0</th>\n",
       "      <td>6</td>\n",
       "      <td>148</td>\n",
       "      <td>72</td>\n",
       "      <td>35</td>\n",
       "      <td>0</td>\n",
       "      <td>33.6</td>\n",
       "      <td>0.627</td>\n",
       "      <td>50</td>\n",
       "      <td>1</td>\n",
       "    </tr>\n",
       "    <tr>\n",
       "      <th>1</th>\n",
       "      <td>1</td>\n",
       "      <td>85</td>\n",
       "      <td>66</td>\n",
       "      <td>29</td>\n",
       "      <td>0</td>\n",
       "      <td>26.6</td>\n",
       "      <td>0.351</td>\n",
       "      <td>31</td>\n",
       "      <td>0</td>\n",
       "    </tr>\n",
       "    <tr>\n",
       "      <th>2</th>\n",
       "      <td>8</td>\n",
       "      <td>183</td>\n",
       "      <td>64</td>\n",
       "      <td>0</td>\n",
       "      <td>0</td>\n",
       "      <td>23.3</td>\n",
       "      <td>0.672</td>\n",
       "      <td>32</td>\n",
       "      <td>1</td>\n",
       "    </tr>\n",
       "    <tr>\n",
       "      <th>3</th>\n",
       "      <td>1</td>\n",
       "      <td>89</td>\n",
       "      <td>66</td>\n",
       "      <td>23</td>\n",
       "      <td>94</td>\n",
       "      <td>28.1</td>\n",
       "      <td>0.167</td>\n",
       "      <td>21</td>\n",
       "      <td>0</td>\n",
       "    </tr>\n",
       "    <tr>\n",
       "      <th>4</th>\n",
       "      <td>0</td>\n",
       "      <td>137</td>\n",
       "      <td>40</td>\n",
       "      <td>35</td>\n",
       "      <td>168</td>\n",
       "      <td>43.1</td>\n",
       "      <td>2.288</td>\n",
       "      <td>33</td>\n",
       "      <td>1</td>\n",
       "    </tr>\n",
       "  </tbody>\n",
       "</table>\n",
       "</div>"
      ],
      "text/plain": [
       "   pregs  plas  pres  skin  test   BMI   pedi  Age  class\n",
       "0      6   148    72    35     0  33.6  0.627   50      1\n",
       "1      1    85    66    29     0  26.6  0.351   31      0\n",
       "2      8   183    64     0     0  23.3  0.672   32      1\n",
       "3      1    89    66    23    94  28.1  0.167   21      0\n",
       "4      0   137    40    35   168  43.1  2.288   33      1"
      ]
     },
     "execution_count": 3,
     "metadata": {},
     "output_type": "execute_result"
    }
   ],
   "source": [
    "df = pd.read_csv(\"pima-indians-diabetes.csv\")\n",
    "df.head()"
   ]
  },
  {
   "cell_type": "code",
   "execution_count": 5,
   "metadata": {},
   "outputs": [
    {
     "data": {
      "text/html": [
       "<div>\n",
       "<style scoped>\n",
       "    .dataframe tbody tr th:only-of-type {\n",
       "        vertical-align: middle;\n",
       "    }\n",
       "\n",
       "    .dataframe tbody tr th {\n",
       "        vertical-align: top;\n",
       "    }\n",
       "\n",
       "    .dataframe thead th {\n",
       "        text-align: right;\n",
       "    }\n",
       "</style>\n",
       "<table border=\"1\" class=\"dataframe\">\n",
       "  <thead>\n",
       "    <tr style=\"text-align: right;\">\n",
       "      <th></th>\n",
       "      <th>pregs</th>\n",
       "      <th>plas</th>\n",
       "      <th>pres</th>\n",
       "      <th>skin</th>\n",
       "      <th>test</th>\n",
       "      <th>BMI</th>\n",
       "      <th>pedi</th>\n",
       "      <th>Age</th>\n",
       "    </tr>\n",
       "  </thead>\n",
       "  <tbody>\n",
       "    <tr>\n",
       "      <th>0</th>\n",
       "      <td>6</td>\n",
       "      <td>148</td>\n",
       "      <td>72</td>\n",
       "      <td>35</td>\n",
       "      <td>0</td>\n",
       "      <td>33.6</td>\n",
       "      <td>0.627</td>\n",
       "      <td>50</td>\n",
       "    </tr>\n",
       "    <tr>\n",
       "      <th>1</th>\n",
       "      <td>1</td>\n",
       "      <td>85</td>\n",
       "      <td>66</td>\n",
       "      <td>29</td>\n",
       "      <td>0</td>\n",
       "      <td>26.6</td>\n",
       "      <td>0.351</td>\n",
       "      <td>31</td>\n",
       "    </tr>\n",
       "    <tr>\n",
       "      <th>2</th>\n",
       "      <td>8</td>\n",
       "      <td>183</td>\n",
       "      <td>64</td>\n",
       "      <td>0</td>\n",
       "      <td>0</td>\n",
       "      <td>23.3</td>\n",
       "      <td>0.672</td>\n",
       "      <td>32</td>\n",
       "    </tr>\n",
       "    <tr>\n",
       "      <th>3</th>\n",
       "      <td>1</td>\n",
       "      <td>89</td>\n",
       "      <td>66</td>\n",
       "      <td>23</td>\n",
       "      <td>94</td>\n",
       "      <td>28.1</td>\n",
       "      <td>0.167</td>\n",
       "      <td>21</td>\n",
       "    </tr>\n",
       "    <tr>\n",
       "      <th>4</th>\n",
       "      <td>0</td>\n",
       "      <td>137</td>\n",
       "      <td>40</td>\n",
       "      <td>35</td>\n",
       "      <td>168</td>\n",
       "      <td>43.1</td>\n",
       "      <td>2.288</td>\n",
       "      <td>33</td>\n",
       "    </tr>\n",
       "  </tbody>\n",
       "</table>\n",
       "</div>"
      ],
      "text/plain": [
       "   pregs  plas  pres  skin  test   BMI   pedi  Age\n",
       "0      6   148    72    35     0  33.6  0.627   50\n",
       "1      1    85    66    29     0  26.6  0.351   31\n",
       "2      8   183    64     0     0  23.3  0.672   32\n",
       "3      1    89    66    23    94  28.1  0.167   21\n",
       "4      0   137    40    35   168  43.1  2.288   33"
      ]
     },
     "execution_count": 5,
     "metadata": {},
     "output_type": "execute_result"
    }
   ],
   "source": [
    "data = df.drop(['class'], axis = 1)\n",
    "data.head()"
   ]
  },
  {
   "cell_type": "markdown",
   "metadata": {},
   "source": [
    "Replacing the outliers with the median of the respective attributes :-"
   ]
  },
  {
   "cell_type": "code",
   "execution_count": 21,
   "metadata": {},
   "outputs": [],
   "source": [
    "attributesfr = list(data.columns)\n",
    "def outliers(x):  #Function for outliers\n",
    "    IQR = np.percentile(data[x],75) - np.percentile(data[x],25)\n",
    "    minimum= np.percentile(data[x],25) - (1.5*IQR)#conditions for outliers\n",
    "    maximum= np.percentile(data[x],75) + (1.5*IQR)\n",
    "    outliers_=pd.concat((data[x][data[x]< minimum],data[x][data[x]> maximum]))\n",
    "    return outliers_\n",
    "\n",
    "\n",
    "for i in attributesfr:\n",
    "    data[i].replace(data[i][list(outliers(i).index)],data[i].median(),inplace = True)"
   ]
  },
  {
   "cell_type": "markdown",
   "metadata": {},
   "source": [
    "Min-Max normalization of the outlier corrected data to scale the attribute values in the range 5 to 12 :-"
   ]
  },
  {
   "cell_type": "code",
   "execution_count": 23,
   "metadata": {},
   "outputs": [
    {
     "name": "stdout",
     "output_type": "stream",
     "text": [
      "      pregs       plas     pres      skin      test        BMI      pedi  \\\n",
      "0  8.230769   9.696774  8.50000  8.888889  5.000000   8.522876  9.070975   \n",
      "1  5.538462   6.851613  7.84375  8.222222  5.000000   6.921569  7.024364   \n",
      "2  9.307692  11.277419  7.62500  5.000000  5.000000   6.166667  9.404661   \n",
      "3  5.538462   7.032258  7.84375  7.555556  7.550388   7.264706  5.659958   \n",
      "4  5.000000   9.200000  5.00000  8.888889  9.558140  10.696078  7.183792   \n",
      "\n",
      "      Age  \n",
      "0  10.075  \n",
      "1   6.750  \n",
      "2   6.925  \n",
      "3   5.000  \n",
      "4   7.100  \n"
     ]
    }
   ],
   "source": [
    "min_max_scaler = prp.MinMaxScaler(feature_range=(5, 12))\n",
    "x_scaled = min_max_scaler.fit_transform(data)\n",
    "minMaxNormalized = pd.DataFrame(x_scaled)\n",
    "minMaxNormalized.rename(columns={i: list(data)[i] for i in range(8)}, inplace=True)\n",
    "print(minMaxNormalized.head())"
   ]
  },
  {
   "cell_type": "markdown",
   "metadata": {},
   "source": [
    "Standardization each selected attribute using the relation 𝑥̂n= (xn − μ)/σ where μ\n",
    "is mean and σ is standard deviation of that attribute :-"
   ]
  },
  {
   "cell_type": "code",
   "execution_count": 29,
   "metadata": {},
   "outputs": [
    {
     "name": "stdout",
     "output_type": "stream",
     "text": [
      "[[ 0.67842689  0.86604475 -0.00994497 ...  0.23770786  0.99892887\n",
      "   1.78318807]\n",
      " [-0.85132017 -1.20506583 -0.56207036 ... -0.87681983 -0.26574929\n",
      "  -0.10247613]\n",
      " [ 1.29032571  2.01666174 -0.74611216 ... -1.40224003  1.2051264\n",
      "  -0.00323065]\n",
      " ...\n",
      " [ 0.37247747 -0.02157407 -0.00994497 ... -0.94050713 -0.75145903\n",
      "  -0.20172162]\n",
      " [-0.85132017  0.14279979 -1.11419575 ... -0.31955599 -0.27491363\n",
      "   1.48545161]\n",
      " [-0.85132017 -0.94206766 -0.19398676 ... -0.27179051 -0.43070732\n",
      "  -0.89644   ]]\n"
     ]
    }
   ],
   "source": [
    "#def z_score(x):\n",
    "    #x_sc = (x - x.mean())/x.std()\n",
    "    #return x_sc \n",
    "\n",
    "from sklearn.preprocessing import StandardScaler\n",
    "X_scaled = StandardScaler().fit_transform(data)\n",
    "print(X_scaled)"
   ]
  },
  {
   "cell_type": "markdown",
   "metadata": {},
   "source": [
    "# Data Reduction using PCA"
   ]
  },
  {
   "cell_type": "markdown",
   "metadata": {},
   "source": [
    "Doing PCA without importing it from library"
   ]
  },
  {
   "cell_type": "code",
   "execution_count": 30,
   "metadata": {},
   "outputs": [
    {
     "name": "stdout",
     "output_type": "stream",
     "text": [
      "          PC1       PC2\n",
      "0    1.864413  0.069728\n",
      "1   -1.469234  0.294411\n",
      "2    0.460198  1.490386\n",
      "3   -1.919455 -0.321461\n",
      "4   -0.753379 -2.546653\n",
      "..        ...       ...\n",
      "763  0.878117 -1.173296\n",
      "764 -0.377143 -0.269287\n",
      "765 -0.272631  0.050026\n",
      "766 -0.354947  1.399579\n",
      "767 -1.434987 -0.131366\n",
      "\n",
      "[768 rows x 2 columns]\n"
     ]
    }
   ],
   "source": [
    "features = X_scaled.T\n",
    "cov_matrix = np.cov(features)\n",
    "\n",
    "values, vectors = np.linalg.eig(cov_matrix)\n",
    "\n",
    "explained_variances = []\n",
    "for i in range(len(values)):\n",
    "    explained_variances.append(values[i] / np.sum(values))\n",
    " \n",
    "\n",
    "projected_1 = X_scaled.dot(vectors.T[0])\n",
    "projected_2 = X_scaled.dot(vectors.T[1])\n",
    "res = pd.DataFrame(projected_1, columns=['PC1'])\n",
    "res[\"PC2\"] = projected_2\n",
    "print(res)"
   ]
  },
  {
   "cell_type": "markdown",
   "metadata": {},
   "source": [
    "By using library"
   ]
  },
  {
   "cell_type": "code",
   "execution_count": 32,
   "metadata": {},
   "outputs": [
    {
     "name": "stdout",
     "output_type": "stream",
     "text": [
      "          PC1       PC2\n",
      "0    1.864413 -0.069728\n",
      "1   -1.469234 -0.294411\n",
      "2    0.460198 -1.490386\n",
      "3   -1.919455  0.321461\n",
      "4   -0.753379  2.546653\n",
      "..        ...       ...\n",
      "763  0.878117  1.173296\n",
      "764 -0.377143  0.269287\n",
      "765 -0.272631 -0.050026\n",
      "766 -0.354947 -1.399579\n",
      "767 -1.434987  0.131366\n",
      "\n",
      "[768 rows x 2 columns]\n"
     ]
    }
   ],
   "source": [
    "pca = PCA(n_components=2)\n",
    "pca.fit(X_scaled)\n",
    "prComp = pca.fit_transform(X_scaled)\n",
    "prDf = pd.DataFrame(data=prComp, columns=['PC1', 'PC2'])\n",
    "print(prDf)"
   ]
  },
  {
   "cell_type": "code",
   "execution_count": null,
   "metadata": {},
   "outputs": [],
   "source": []
  }
 ],
 "metadata": {
  "kernelspec": {
   "display_name": "Python 3",
   "language": "python",
   "name": "python3"
  },
  "language_info": {
   "codemirror_mode": {
    "name": "ipython",
    "version": 3
   },
   "file_extension": ".py",
   "mimetype": "text/x-python",
   "name": "python",
   "nbconvert_exporter": "python",
   "pygments_lexer": "ipython3",
   "version": "3.8.3"
  }
 },
 "nbformat": 4,
 "nbformat_minor": 4
}
